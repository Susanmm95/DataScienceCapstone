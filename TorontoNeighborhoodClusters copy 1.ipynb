{
    "nbformat_minor": 1, 
    "cells": [
        {
            "source": "# Scrape website 'https://en.wikipedia.org/wiki/List_of_postal_codes_of_Canada:_M' for all Toronto neighborhoods", 
            "cell_type": "markdown", 
            "metadata": {}
        }, 
        {
            "source": "import libraries for data analysis (np and pd) and accessing website data (requests and BeautifulSoup)", 
            "cell_type": "markdown", 
            "metadata": {}
        }, 
        {
            "execution_count": 3, 
            "cell_type": "code", 
            "metadata": {}, 
            "outputs": [], 
            "source": "import requests\nfrom bs4 import BeautifulSoup\nimport numpy as np\nimport pandas as pd"
        }, 
        {
            "source": "access website and download all text", 
            "cell_type": "markdown", 
            "metadata": {}
        }, 
        {
            "execution_count": 4, 
            "cell_type": "code", 
            "metadata": {}, 
            "outputs": [], 
            "source": "url = 'https://en.wikipedia.org/wiki/List_of_postal_codes_of_Canada:_M'\nwebsite_url = requests.get(url).text\nsoup = BeautifulSoup(website_url,'lxml')\n"
        }, 
        {
            "source": "Read in main table data to variable My_table with column headers PostCode, Borough, and Neighborhood.  Read by table row and separate by text td.  Drop missing values.  Strip out strings \\n", 
            "cell_type": "markdown", 
            "metadata": {}
        }, 
        {
            "execution_count": 5, 
            "cell_type": "code", 
            "metadata": {}, 
            "outputs": [], 
            "source": "My_table = soup.find('table',{'class':'wikitable sortable'})\nrows  = My_table.find_all('tr')\nTN=[]\nfor tr in rows:\n    td = tr.find_all('td')\n    row = [tr.text for tr in td]\n    #print(row)\n    TN.append(row)\ndf=pd.DataFrame(TN, columns=['Postal Code', 'Borough', 'Neighborhood'])\ndf = df.replace(to_replace='None', value=np.nan).dropna()\ndf['Neighborhood']=df['Neighborhood'].str.strip('\\n')\n"
        }, 
        {
            "source": "Drop row if Borough Not assigined.  \nIf Neighborhood set to Not assigned replace with borough name.  \nGroup by postcode and borough.  \nAssign one row for each postal code, in neighborhood column place all neighborhoods separated by comma.\nPlace Result into variable TN", 
            "cell_type": "markdown", 
            "metadata": {}
        }, 
        {
            "execution_count": 6, 
            "cell_type": "code", 
            "metadata": {}, 
            "outputs": [], 
            "source": "\ndf['Borough'] = df['Borough'].replace(to_replace=\"Not assigned\", value=np.nan)\ndf=df.dropna()\n\ndf['Neighborhood'] = df['Neighborhood'].replace(to_replace=\"Not assigned\", value=np.nan)\nvalues=df['Borough']\ndf['Neighborhood'] = values.where(df['Neighborhood'].isnull(), other=df['Neighborhood'])\n\nTN=df.groupby(['Postal Code', 'Borough'], sort=False)['Neighborhood'].apply(','.join).reset_index()\n\nTN.columns=('Postal Code', 'Borough', 'Neighborhood')\n"
        }, 
        {
            "source": "Find number of rows of data with .shape", 
            "cell_type": "markdown", 
            "metadata": {}
        }, 
        {
            "execution_count": 7, 
            "cell_type": "code", 
            "metadata": {}, 
            "outputs": [
                {
                    "execution_count": 7, 
                    "metadata": {}, 
                    "data": {
                        "text/plain": "(103, 3)"
                    }, 
                    "output_type": "execute_result"
                }
            ], 
            "source": "TN.shape"
        }, 
        {
            "source": "Find longitude and latitude of each neighborhood and append to TN variable, create new variable TNLL to hold all data", 
            "cell_type": "markdown", 
            "metadata": {}
        }, 
        {
            "execution_count": 15, 
            "cell_type": "code", 
            "metadata": {}, 
            "outputs": [
                {
                    "execution_count": 15, 
                    "metadata": {}, 
                    "data": {
                        "text/html": "<div>\n<style scoped>\n    .dataframe tbody tr th:only-of-type {\n        vertical-align: middle;\n    }\n\n    .dataframe tbody tr th {\n        vertical-align: top;\n    }\n\n    .dataframe thead th {\n        text-align: right;\n    }\n</style>\n<table border=\"1\" class=\"dataframe\">\n  <thead>\n    <tr style=\"text-align: right;\">\n      <th></th>\n      <th>Postal Code</th>\n      <th>Borough</th>\n      <th>Neighborhood</th>\n      <th>Latitude</th>\n      <th>Longitude</th>\n    </tr>\n  </thead>\n  <tbody>\n    <tr>\n      <th>0</th>\n      <td>M3A</td>\n      <td>North York</td>\n      <td>Parkwoods</td>\n      <td>43.753259</td>\n      <td>-79.329656</td>\n    </tr>\n    <tr>\n      <th>1</th>\n      <td>M4A</td>\n      <td>North York</td>\n      <td>Victoria Village</td>\n      <td>43.725882</td>\n      <td>-79.315572</td>\n    </tr>\n    <tr>\n      <th>2</th>\n      <td>M5A</td>\n      <td>Downtown Toronto</td>\n      <td>Harbourfront,Regent Park</td>\n      <td>43.654260</td>\n      <td>-79.360636</td>\n    </tr>\n    <tr>\n      <th>3</th>\n      <td>M6A</td>\n      <td>North York</td>\n      <td>Lawrence Heights,Lawrence Manor</td>\n      <td>43.718518</td>\n      <td>-79.464763</td>\n    </tr>\n    <tr>\n      <th>4</th>\n      <td>M7A</td>\n      <td>Queen's Park</td>\n      <td>Queen's Park</td>\n      <td>43.662301</td>\n      <td>-79.389494</td>\n    </tr>\n    <tr>\n      <th>5</th>\n      <td>M9A</td>\n      <td>Etobicoke</td>\n      <td>Islington Avenue</td>\n      <td>43.667856</td>\n      <td>-79.532242</td>\n    </tr>\n    <tr>\n      <th>6</th>\n      <td>M1B</td>\n      <td>Scarborough</td>\n      <td>Rouge,Malvern</td>\n      <td>43.806686</td>\n      <td>-79.194353</td>\n    </tr>\n    <tr>\n      <th>7</th>\n      <td>M3B</td>\n      <td>North York</td>\n      <td>Don Mills North</td>\n      <td>43.745906</td>\n      <td>-79.352188</td>\n    </tr>\n    <tr>\n      <th>8</th>\n      <td>M4B</td>\n      <td>East York</td>\n      <td>Woodbine Gardens,Parkview Hill</td>\n      <td>43.706397</td>\n      <td>-79.309937</td>\n    </tr>\n    <tr>\n      <th>9</th>\n      <td>M5B</td>\n      <td>Downtown Toronto</td>\n      <td>Ryerson,Garden District</td>\n      <td>43.657162</td>\n      <td>-79.378937</td>\n    </tr>\n  </tbody>\n</table>\n</div>", 
                        "text/plain": "  Postal Code           Borough                     Neighborhood   Latitude  \\\n0         M3A        North York                        Parkwoods  43.753259   \n1         M4A        North York                 Victoria Village  43.725882   \n2         M5A  Downtown Toronto         Harbourfront,Regent Park  43.654260   \n3         M6A        North York  Lawrence Heights,Lawrence Manor  43.718518   \n4         M7A      Queen's Park                     Queen's Park  43.662301   \n5         M9A         Etobicoke                 Islington Avenue  43.667856   \n6         M1B       Scarborough                    Rouge,Malvern  43.806686   \n7         M3B        North York                  Don Mills North  43.745906   \n8         M4B         East York   Woodbine Gardens,Parkview Hill  43.706397   \n9         M5B  Downtown Toronto          Ryerson,Garden District  43.657162   \n\n   Longitude  \n0 -79.329656  \n1 -79.315572  \n2 -79.360636  \n3 -79.464763  \n4 -79.389494  \n5 -79.532242  \n6 -79.194353  \n7 -79.352188  \n8 -79.309937  \n9 -79.378937  "
                    }, 
                    "output_type": "execute_result"
                }
            ], 
            "source": "Coords=pd.read_csv('http://cocl.us/Geospatial_data')\n\nLatLon=pd.DataFrame()\nLatLon=Coords\n\nTN.columns=('Postal Code', 'Latitude', 'Longitude')\n\nLatLon.head()\n\nTNLL=pd.merge(TN, LatLon, on=\"Postal Code\")\n\nTNLL.columns=('Postal Code', 'Borough', 'Neighborhood', 'Latitude', 'Longitude')\n\nTNLL.head(10)\n\n\n"
        }
    ], 
    "metadata": {
        "kernelspec": {
            "display_name": "Python 3.5", 
            "name": "python3", 
            "language": "python"
        }, 
        "language_info": {
            "mimetype": "text/x-python", 
            "nbconvert_exporter": "python", 
            "version": "3.5.5", 
            "name": "python", 
            "file_extension": ".py", 
            "pygments_lexer": "ipython3", 
            "codemirror_mode": {
                "version": 3, 
                "name": "ipython"
            }
        }
    }, 
    "nbformat": 4
}