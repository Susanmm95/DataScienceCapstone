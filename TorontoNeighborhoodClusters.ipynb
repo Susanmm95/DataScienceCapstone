{
    "nbformat_minor": 1, 
    "cells": [
        {
            "source": "# Scrape website 'https://en.wikipedia.org/wiki/List_of_postal_codes_of_Canada:_M' for all Toronto neighborhoods", 
            "cell_type": "markdown", 
            "metadata": {}
        }, 
        {
            "source": "import libraries for data analysis (np and pd) and accessing website data (requests and BeautifulSoup)", 
            "cell_type": "markdown", 
            "metadata": {}
        }, 
        {
            "execution_count": 2, 
            "cell_type": "code", 
            "metadata": {}, 
            "outputs": [], 
            "source": "import requests\nfrom bs4 import BeautifulSoup\n#import time\nimport numpy as np\nimport pandas as pd"
        }, 
        {
            "source": "access website and download all text", 
            "cell_type": "markdown", 
            "metadata": {}
        }, 
        {
            "execution_count": 14, 
            "cell_type": "code", 
            "metadata": {}, 
            "outputs": [], 
            "source": "url = 'https://en.wikipedia.org/wiki/List_of_postal_codes_of_Canada:_M'\nwebsite_url = requests.get(url).text\nsoup = BeautifulSoup(website_url,'lxml')\n"
        }, 
        {
            "source": "Read in main table data to variable My_table with column headers PostCode, Borough, and Neighborhood.  Read by table row and separate by text td.  Drop missing values.  Strip out strings \\n", 
            "cell_type": "markdown", 
            "metadata": {}
        }, 
        {
            "execution_count": 15, 
            "cell_type": "code", 
            "metadata": {}, 
            "outputs": [], 
            "source": "My_table = soup.find('table',{'class':'wikitable sortable'})\nrows  = My_table.find_all('tr')\nTN=[]\nfor tr in rows:\n    td = tr.find_all('td')\n    row = [tr.text for tr in td]\n    #print(row)\n    TN.append(row)\ndf=pd.DataFrame(TN, columns=['Postal Code', 'Borough', 'Neighborhood'])\ndf = df.replace(to_replace='None', value=np.nan).dropna()\ndf['Neighborhood']=df['Neighborhood'].str.strip('\\n')\n"
        }, 
        {
            "source": "Drop row if Borough Not assigined.  \nIf Neighborhood set to Not assigned replace with borough name.  \nGroup by postcode and borough.  \nAssign one row for each postal code, in neighborhood column place all neighborhoods separated by comma.\nPlace Result into variable TN", 
            "cell_type": "markdown", 
            "metadata": {}
        }, 
        {
            "execution_count": 36, 
            "cell_type": "code", 
            "metadata": {}, 
            "outputs": [], 
            "source": "\ndf['Borough'] = df['Borough'].replace(to_replace=\"Not assigned\", value=np.nan)\ndf=df.dropna()\n\ndf['Neighborhood'] = df['Neighborhood'].replace(to_replace=\"Not assigned\", value=np.nan)\nvalues=df['Borough']\ndf['Neighborhood'] = values.where(df['Neighborhood'].isnull(), other=df['Neighborhood'])\n\nTN=df.groupby(['Postal Code', 'Borough'], sort=False)['Neighborhood'].apply(','.join).reset_index()\n\nTN.columns=('Postal Code', 'Borough', 'Neighborhood')\n"
        }, 
        {
            "source": "Find number of rows of data with .shape", 
            "cell_type": "markdown", 
            "metadata": {}
        }, 
        {
            "execution_count": 37, 
            "cell_type": "code", 
            "metadata": {}, 
            "outputs": [
                {
                    "execution_count": 37, 
                    "metadata": {}, 
                    "data": {
                        "text/plain": "(103, 3)"
                    }, 
                    "output_type": "execute_result"
                }
            ], 
            "source": "TN.shape"
        }
    ], 
    "metadata": {
        "kernelspec": {
            "display_name": "Python 3.5", 
            "name": "python3", 
            "language": "python"
        }, 
        "language_info": {
            "mimetype": "text/x-python", 
            "nbconvert_exporter": "python", 
            "version": "3.5.5", 
            "name": "python", 
            "file_extension": ".py", 
            "pygments_lexer": "ipython3", 
            "codemirror_mode": {
                "version": 3, 
                "name": "ipython"
            }
        }
    }, 
    "nbformat": 4
}