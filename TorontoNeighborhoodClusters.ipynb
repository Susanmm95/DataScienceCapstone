{
    "nbformat_minor": 1, 
    "cells": [
        {
            "source": "# Scrape website 'https://en.wikipedia.org/wiki/List_of_postal_codes_of_Canada:_M' for all Toronto neighborhoods", 
            "cell_type": "markdown", 
            "metadata": {}
        }, 
        {
            "source": "import libraries for data analysis (np and pd) and accessing website data (requests and BeautifulSoup)", 
            "cell_type": "markdown", 
            "metadata": {}
        }, 
        {
            "execution_count": 2, 
            "cell_type": "code", 
            "metadata": {}, 
            "outputs": [], 
            "source": "import requests\nfrom bs4 import BeautifulSoup\nimport numpy as np\nimport pandas as pd"
        }, 
        {
            "source": "access website and download all text", 
            "cell_type": "markdown", 
            "metadata": {}
        }, 
        {
            "execution_count": 3, 
            "cell_type": "code", 
            "metadata": {}, 
            "outputs": [], 
            "source": "url = 'https://en.wikipedia.org/wiki/List_of_postal_codes_of_Canada:_M'\nwebsite_url = requests.get(url).text\nsoup = BeautifulSoup(website_url,'lxml')\n"
        }, 
        {
            "source": "Read in main table data to variable My_table with column headers PostCode, Borough, and Neighborhood.  Read by table row and separate by text td.  Drop missing values.  Strip out strings \\n", 
            "cell_type": "markdown", 
            "metadata": {}
        }, 
        {
            "execution_count": 4, 
            "cell_type": "code", 
            "metadata": {}, 
            "outputs": [], 
            "source": "My_table = soup.find('table',{'class':'wikitable sortable'})\nrows  = My_table.find_all('tr')\nTN=[]\nfor tr in rows:\n    td = tr.find_all('td')\n    row = [tr.text for tr in td]\n    #print(row)\n    TN.append(row)\ndf=pd.DataFrame(TN, columns=['PostCode', 'Borough', 'Neighborhood'])\ndf = df.replace(to_replace='None', value=np.nan).dropna()\ndf['Neighborhood']=df['Neighborhood'].str.strip('\\n')\n"
        }, 
        {
            "source": "Drop row if Borough Not assigined.  \nIf Neighborhood set to Not assigned replace with borough name.  \nGroup by postcode and borough.  \nAssign one row for each postal code, in neighborhood column place all neighborhoods separated by comma.\nPlace Result into variable TN", 
            "cell_type": "markdown", 
            "metadata": {}
        }, 
        {
            "execution_count": 6, 
            "cell_type": "code", 
            "metadata": {}, 
            "outputs": [
                {
                    "execution_count": 6, 
                    "metadata": {}, 
                    "data": {
                        "text/plain": "PostCode  Borough         \nM3A       North York                                                  Parkwoods\nM4A       North York                                           Victoria Village\nM5A       Downtown Toronto                             Harbourfront,Regent Park\nM6A       North York                            Lawrence Heights,Lawrence Manor\nM7A       Queen's Park                                             Queen's Park\nM9A       Etobicoke                                            Islington Avenue\nM1B       Scarborough                                             Rouge,Malvern\nM3B       North York                                            Don Mills North\nM4B       East York                              Woodbine Gardens,Parkview Hill\nM5B       Downtown Toronto                              Ryerson,Garden District\nM6B       North York                                                  Glencairn\nM9B       Etobicoke           Cloverdale,Islington,Martin Grove,Princess Gar...\nM1C       Scarborough                      Highland Creek,Rouge Hill,Port Union\nM3C       North York                            Flemingdon Park,Don Mills South\nM4C       East York                                            Woodbine Heights\nM5C       Downtown Toronto                                       St. James Town\nM6C       York                                               Humewood-Cedarvale\nM9C       Etobicoke           Bloordale Gardens,Eringate,Markland Wood,Old B...\nM1E       Scarborough                           Guildwood,Morningside,West Hill\nM4E       East Toronto                                              The Beaches\nName: Neighborhood, dtype: object"
                    }, 
                    "output_type": "execute_result"
                }
            ], 
            "source": "\ndf['Borough'] = df['Borough'].replace(to_replace=\"Not assigned\", value=np.nan)\ndf=df.dropna()\n\ndf['Neighborhood'] = df['Neighborhood'].replace(to_replace=\"Not assigned\", value=np.nan)\nvalues=df['Borough']\ndf['Neighborhood'] = values.where(df['Neighborhood'].isnull(), other=df['Neighborhood'])\n\nTN=df.groupby(['PostCode', 'Borough'], sort=False)['Neighborhood'].apply(','.join)\n\nTN.head(20)"
        }, 
        {
            "source": "Find number of rows of data with .shape", 
            "cell_type": "markdown", 
            "metadata": {}
        }, 
        {
            "execution_count": 11, 
            "cell_type": "code", 
            "metadata": {}, 
            "outputs": [
                {
                    "execution_count": 11, 
                    "metadata": {}, 
                    "data": {
                        "text/plain": "(103,)"
                    }, 
                    "output_type": "execute_result"
                }
            ], 
            "source": "TN.shape"
        }
    ], 
    "metadata": {
        "kernelspec": {
            "display_name": "Python 3.6", 
            "name": "python3", 
            "language": "python"
        }, 
        "language_info": {
            "mimetype": "text/x-python", 
            "nbconvert_exporter": "python", 
            "version": "3.6.8", 
            "name": "python", 
            "file_extension": ".py", 
            "pygments_lexer": "ipython3", 
            "codemirror_mode": {
                "version": 3, 
                "name": "ipython"
            }
        }
    }, 
    "nbformat": 4
}